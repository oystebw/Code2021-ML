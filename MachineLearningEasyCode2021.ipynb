{
  "nbformat": 4,
  "nbformat_minor": 0,
  "metadata": {
    "colab": {
      "name": "MachineLearningEasyCode2021",
      "provenance": []
    },
    "kernelspec": {
      "name": "python3",
      "display_name": "Python 3"
    },
    "language_info": {
      "name": "python"
    }
  },
  "cells": [
    {
      "cell_type": "code",
      "metadata": {
        "id": "2wfcOFhgGg2M"
      },
      "source": [
        "import pandas as pd\n",
        "import numpy as np\n",
        "import matplotlib.pyplot as plt\n",
        "import seaborn as sns\n",
        "import sklearn\n",
        "from sklearn.model_selection import train_test_split\n",
        "\n",
        "np.random.seed(1)\n",
        "sns.set_style('darkgrid')"
      ],
      "execution_count": 57,
      "outputs": []
    },
    {
      "cell_type": "code",
      "metadata": {
        "id": "y9SyxrXIHbP5"
      },
      "source": [
        "# import the dataset from file\n",
        "dataset = pd.read_csv(\"./dataset_v3-easy.csv\")"
      ],
      "execution_count": 58,
      "outputs": []
    },
    {
      "cell_type": "code",
      "metadata": {
        "colab": {
          "base_uri": "https://localhost:8080/",
          "height": 224
        },
        "id": "XIZBMVZGHhLk",
        "outputId": "bfad5761-811d-47d3-b3e0-05c6d1993907"
      },
      "source": [
        "dataset.head()"
      ],
      "execution_count": 65,
      "outputs": [
        {
          "output_type": "execute_result",
          "data": {
            "text/html": [
              "<div>\n",
              "<style scoped>\n",
              "    .dataframe tbody tr th:only-of-type {\n",
              "        vertical-align: middle;\n",
              "    }\n",
              "\n",
              "    .dataframe tbody tr th {\n",
              "        vertical-align: top;\n",
              "    }\n",
              "\n",
              "    .dataframe thead th {\n",
              "        text-align: right;\n",
              "    }\n",
              "</style>\n",
              "<table border=\"1\" class=\"dataframe\">\n",
              "  <thead>\n",
              "    <tr style=\"text-align: right;\">\n",
              "      <th></th>\n",
              "      <th>id</th>\n",
              "      <th>nr_employees</th>\n",
              "      <th>nr_closed_cubicles</th>\n",
              "      <th>nr_meeting_room_total_occupancy</th>\n",
              "      <th>industry</th>\n",
              "      <th>city</th>\n",
              "      <th>sqm_social_zones</th>\n",
              "      <th>sqm_net_area</th>\n",
              "    </tr>\n",
              "  </thead>\n",
              "  <tbody>\n",
              "    <tr>\n",
              "      <th>0</th>\n",
              "      <td>0</td>\n",
              "      <td>81</td>\n",
              "      <td>20</td>\n",
              "      <td>20</td>\n",
              "      <td>tech</td>\n",
              "      <td>Oslo</td>\n",
              "      <td>257</td>\n",
              "      <td>1095</td>\n",
              "    </tr>\n",
              "    <tr>\n",
              "      <th>1</th>\n",
              "      <td>1</td>\n",
              "      <td>21</td>\n",
              "      <td>6</td>\n",
              "      <td>5</td>\n",
              "      <td>tech</td>\n",
              "      <td>Bergen</td>\n",
              "      <td>46</td>\n",
              "      <td>262</td>\n",
              "    </tr>\n",
              "    <tr>\n",
              "      <th>2</th>\n",
              "      <td>2</td>\n",
              "      <td>40</td>\n",
              "      <td>11</td>\n",
              "      <td>10</td>\n",
              "      <td>tech</td>\n",
              "      <td>Trondheim</td>\n",
              "      <td>106</td>\n",
              "      <td>520</td>\n",
              "    </tr>\n",
              "    <tr>\n",
              "      <th>3</th>\n",
              "      <td>3</td>\n",
              "      <td>81</td>\n",
              "      <td>56</td>\n",
              "      <td>17</td>\n",
              "      <td>finance</td>\n",
              "      <td>Oslo</td>\n",
              "      <td>257</td>\n",
              "      <td>1162</td>\n",
              "    </tr>\n",
              "    <tr>\n",
              "      <th>4</th>\n",
              "      <td>4</td>\n",
              "      <td>75</td>\n",
              "      <td>52</td>\n",
              "      <td>14</td>\n",
              "      <td>finance</td>\n",
              "      <td>Bergen</td>\n",
              "      <td>234</td>\n",
              "      <td>1549</td>\n",
              "    </tr>\n",
              "  </tbody>\n",
              "</table>\n",
              "</div>"
            ],
            "text/plain": [
              "   id  nr_employees  ...  sqm_social_zones  sqm_net_area\n",
              "0   0            81  ...               257          1095\n",
              "1   1            21  ...                46           262\n",
              "2   2            40  ...               106           520\n",
              "3   3            81  ...               257          1162\n",
              "4   4            75  ...               234          1549\n",
              "\n",
              "[5 rows x 8 columns]"
            ]
          },
          "metadata": {},
          "execution_count": 65
        }
      ]
    },
    {
      "cell_type": "code",
      "metadata": {
        "colab": {
          "base_uri": "https://localhost:8080/",
          "height": 224
        },
        "id": "k3SQ7aZKXTJE",
        "outputId": "13f4f497-47ca-451b-84af-c18fc81582a1"
      },
      "source": [
        "# turns 'industry' into numerical values; 0 for finance and 1 for tech\n",
        "dataset['industry_numeric'] = pd.Categorical(dataset['industry']).codes\n",
        "dataset.head()"
      ],
      "execution_count": 66,
      "outputs": [
        {
          "output_type": "execute_result",
          "data": {
            "text/html": [
              "<div>\n",
              "<style scoped>\n",
              "    .dataframe tbody tr th:only-of-type {\n",
              "        vertical-align: middle;\n",
              "    }\n",
              "\n",
              "    .dataframe tbody tr th {\n",
              "        vertical-align: top;\n",
              "    }\n",
              "\n",
              "    .dataframe thead th {\n",
              "        text-align: right;\n",
              "    }\n",
              "</style>\n",
              "<table border=\"1\" class=\"dataframe\">\n",
              "  <thead>\n",
              "    <tr style=\"text-align: right;\">\n",
              "      <th></th>\n",
              "      <th>id</th>\n",
              "      <th>nr_employees</th>\n",
              "      <th>nr_closed_cubicles</th>\n",
              "      <th>nr_meeting_room_total_occupancy</th>\n",
              "      <th>industry</th>\n",
              "      <th>city</th>\n",
              "      <th>sqm_social_zones</th>\n",
              "      <th>sqm_net_area</th>\n",
              "      <th>industry_numeric</th>\n",
              "    </tr>\n",
              "  </thead>\n",
              "  <tbody>\n",
              "    <tr>\n",
              "      <th>0</th>\n",
              "      <td>0</td>\n",
              "      <td>81</td>\n",
              "      <td>20</td>\n",
              "      <td>20</td>\n",
              "      <td>tech</td>\n",
              "      <td>Oslo</td>\n",
              "      <td>257</td>\n",
              "      <td>1095</td>\n",
              "      <td>1</td>\n",
              "    </tr>\n",
              "    <tr>\n",
              "      <th>1</th>\n",
              "      <td>1</td>\n",
              "      <td>21</td>\n",
              "      <td>6</td>\n",
              "      <td>5</td>\n",
              "      <td>tech</td>\n",
              "      <td>Bergen</td>\n",
              "      <td>46</td>\n",
              "      <td>262</td>\n",
              "      <td>1</td>\n",
              "    </tr>\n",
              "    <tr>\n",
              "      <th>2</th>\n",
              "      <td>2</td>\n",
              "      <td>40</td>\n",
              "      <td>11</td>\n",
              "      <td>10</td>\n",
              "      <td>tech</td>\n",
              "      <td>Trondheim</td>\n",
              "      <td>106</td>\n",
              "      <td>520</td>\n",
              "      <td>1</td>\n",
              "    </tr>\n",
              "    <tr>\n",
              "      <th>3</th>\n",
              "      <td>3</td>\n",
              "      <td>81</td>\n",
              "      <td>56</td>\n",
              "      <td>17</td>\n",
              "      <td>finance</td>\n",
              "      <td>Oslo</td>\n",
              "      <td>257</td>\n",
              "      <td>1162</td>\n",
              "      <td>0</td>\n",
              "    </tr>\n",
              "    <tr>\n",
              "      <th>4</th>\n",
              "      <td>4</td>\n",
              "      <td>75</td>\n",
              "      <td>52</td>\n",
              "      <td>14</td>\n",
              "      <td>finance</td>\n",
              "      <td>Bergen</td>\n",
              "      <td>234</td>\n",
              "      <td>1549</td>\n",
              "      <td>0</td>\n",
              "    </tr>\n",
              "  </tbody>\n",
              "</table>\n",
              "</div>"
            ],
            "text/plain": [
              "   id  nr_employees  ...  sqm_net_area  industry_numeric\n",
              "0   0            81  ...          1095                 1\n",
              "1   1            21  ...           262                 1\n",
              "2   2            40  ...           520                 1\n",
              "3   3            81  ...          1162                 0\n",
              "4   4            75  ...          1549                 0\n",
              "\n",
              "[5 rows x 9 columns]"
            ]
          },
          "metadata": {},
          "execution_count": 66
        }
      ]
    },
    {
      "cell_type": "code",
      "metadata": {
        "colab": {
          "base_uri": "https://localhost:8080/",
          "height": 317
        },
        "id": "PMFEyuUTHv1v",
        "outputId": "22696e62-ad3f-43de-b47d-cd2053bd250d"
      },
      "source": [
        "# quick overview of metadata\n",
        "dataset.describe()"
      ],
      "execution_count": 67,
      "outputs": [
        {
          "output_type": "execute_result",
          "data": {
            "text/html": [
              "<div>\n",
              "<style scoped>\n",
              "    .dataframe tbody tr th:only-of-type {\n",
              "        vertical-align: middle;\n",
              "    }\n",
              "\n",
              "    .dataframe tbody tr th {\n",
              "        vertical-align: top;\n",
              "    }\n",
              "\n",
              "    .dataframe thead th {\n",
              "        text-align: right;\n",
              "    }\n",
              "</style>\n",
              "<table border=\"1\" class=\"dataframe\">\n",
              "  <thead>\n",
              "    <tr style=\"text-align: right;\">\n",
              "      <th></th>\n",
              "      <th>id</th>\n",
              "      <th>nr_employees</th>\n",
              "      <th>nr_closed_cubicles</th>\n",
              "      <th>nr_meeting_room_total_occupancy</th>\n",
              "      <th>sqm_social_zones</th>\n",
              "      <th>sqm_net_area</th>\n",
              "      <th>industry_numeric</th>\n",
              "    </tr>\n",
              "  </thead>\n",
              "  <tbody>\n",
              "    <tr>\n",
              "      <th>count</th>\n",
              "      <td>2001.000000</td>\n",
              "      <td>2001.000000</td>\n",
              "      <td>2001.000000</td>\n",
              "      <td>2001.000000</td>\n",
              "      <td>2001.000000</td>\n",
              "      <td>2001.000000</td>\n",
              "      <td>2001.000000</td>\n",
              "    </tr>\n",
              "    <tr>\n",
              "      <th>mean</th>\n",
              "      <td>1000.000000</td>\n",
              "      <td>72.907546</td>\n",
              "      <td>87.022489</td>\n",
              "      <td>66.133433</td>\n",
              "      <td>282.869065</td>\n",
              "      <td>1237.439780</td>\n",
              "      <td>0.497251</td>\n",
              "    </tr>\n",
              "    <tr>\n",
              "      <th>std</th>\n",
              "      <td>577.783264</td>\n",
              "      <td>40.857887</td>\n",
              "      <td>2234.963816</td>\n",
              "      <td>2235.163948</td>\n",
              "      <td>2236.029199</td>\n",
              "      <td>891.448827</td>\n",
              "      <td>0.500117</td>\n",
              "    </tr>\n",
              "    <tr>\n",
              "      <th>min</th>\n",
              "      <td>0.000000</td>\n",
              "      <td>0.000000</td>\n",
              "      <td>0.000000</td>\n",
              "      <td>0.000000</td>\n",
              "      <td>0.000000</td>\n",
              "      <td>0.000000</td>\n",
              "      <td>0.000000</td>\n",
              "    </tr>\n",
              "    <tr>\n",
              "      <th>25%</th>\n",
              "      <td>500.000000</td>\n",
              "      <td>43.000000</td>\n",
              "      <td>12.000000</td>\n",
              "      <td>10.000000</td>\n",
              "      <td>117.000000</td>\n",
              "      <td>623.000000</td>\n",
              "      <td>0.000000</td>\n",
              "    </tr>\n",
              "    <tr>\n",
              "      <th>50%</th>\n",
              "      <td>1000.000000</td>\n",
              "      <td>63.000000</td>\n",
              "      <td>23.000000</td>\n",
              "      <td>15.000000</td>\n",
              "      <td>188.000000</td>\n",
              "      <td>1000.000000</td>\n",
              "      <td>0.000000</td>\n",
              "    </tr>\n",
              "    <tr>\n",
              "      <th>75%</th>\n",
              "      <td>1500.000000</td>\n",
              "      <td>92.000000</td>\n",
              "      <td>48.000000</td>\n",
              "      <td>21.000000</td>\n",
              "      <td>300.000000</td>\n",
              "      <td>1555.000000</td>\n",
              "      <td>1.000000</td>\n",
              "    </tr>\n",
              "    <tr>\n",
              "      <th>max</th>\n",
              "      <td>2000.000000</td>\n",
              "      <td>250.000000</td>\n",
              "      <td>100000.000000</td>\n",
              "      <td>100000.000000</td>\n",
              "      <td>100000.000000</td>\n",
              "      <td>4702.000000</td>\n",
              "      <td>1.000000</td>\n",
              "    </tr>\n",
              "  </tbody>\n",
              "</table>\n",
              "</div>"
            ],
            "text/plain": [
              "                id  nr_employees  ...  sqm_net_area  industry_numeric\n",
              "count  2001.000000   2001.000000  ...   2001.000000       2001.000000\n",
              "mean   1000.000000     72.907546  ...   1237.439780          0.497251\n",
              "std     577.783264     40.857887  ...    891.448827          0.500117\n",
              "min       0.000000      0.000000  ...      0.000000          0.000000\n",
              "25%     500.000000     43.000000  ...    623.000000          0.000000\n",
              "50%    1000.000000     63.000000  ...   1000.000000          0.000000\n",
              "75%    1500.000000     92.000000  ...   1555.000000          1.000000\n",
              "max    2000.000000    250.000000  ...   4702.000000          1.000000\n",
              "\n",
              "[8 rows x 7 columns]"
            ]
          },
          "metadata": {},
          "execution_count": 67
        }
      ]
    },
    {
      "cell_type": "code",
      "metadata": {
        "colab": {
          "base_uri": "https://localhost:8080/",
          "height": 450
        },
        "id": "fkyT-BGSHyPJ",
        "outputId": "1089a52b-7659-42e2-f17f-efc2d22569d5"
      },
      "source": [
        "# analyze how well the different parameters correlate before data cleaning\n",
        "sns.heatmap(new_dataset.corr(), annot = True, cmap = 'RdYlGn', linewidths = 0.2)"
      ],
      "execution_count": 153,
      "outputs": [
        {
          "output_type": "execute_result",
          "data": {
            "text/plain": [
              "<matplotlib.axes._subplots.AxesSubplot at 0x7fc5d2572d10>"
            ]
          },
          "metadata": {},
          "execution_count": 153
        },
        {
          "output_type": "display_data",
          "data": {
            "image/png": "[encoded data removed]",
            "text/plain": [
              "<Figure size 432x288 with 2 Axes>"
            ]
          },
          "metadata": {}
        }
      ]
    },
    {
      "cell_type": "code",
      "metadata": {
        "colab": {
          "base_uri": "https://localhost:8080/",
          "height": 297
        },
        "id": "EbYrQII-H2fn",
        "outputId": "8330b4f8-01ba-4520-dadb-4e66e71df220"
      },
      "source": [
        "# histogram of the two industries; tech and finance\n",
        "sns.histplot(data = new_dataset, x = \"industry_numeric\")"
      ],
      "execution_count": 114,
      "outputs": [
        {
          "output_type": "execute_result",
          "data": {
            "text/plain": [
              "<matplotlib.axes._subplots.AxesSubplot at 0x7fc5d4e10690>"
            ]
          },
          "metadata": {},
          "execution_count": 114
        },
        {
          "output_type": "display_data",
          "data": {
            "image/png": "[encoded data removed]",
            "text/plain": [
              "<Figure size 432x288 with 1 Axes>"
            ]
          },
          "metadata": {}
        }
      ]
    },
    {
      "cell_type": "code",
      "metadata": {
        "colab": {
          "base_uri": "https://localhost:8080/",
          "height": 385
        },
        "id": "_5hdXQRKIC99",
        "outputId": "13abe8d8-3f7f-4e3a-8817-dfae9299ef70"
      },
      "source": [
        "# histogram with regards to industries and total area\n",
        "sns.histplot(data = new_dataset[(dataset['industry_numeric'] == 0)], x = \"sqm_net_area\")\n",
        "sns.histplot(data = new_dataset[(dataset['industry_numeric'] == 1)], x = \"sqm_net_area\", color = \"red\")"
      ],
      "execution_count": 115,
      "outputs": [
        {
          "output_type": "stream",
          "name": "stderr",
          "text": [
            "/usr/local/lib/python3.7/dist-packages/ipykernel_launcher.py:2: UserWarning: Boolean Series key will be reindexed to match DataFrame index.\n",
            "  \n",
            "/usr/local/lib/python3.7/dist-packages/ipykernel_launcher.py:3: UserWarning: Boolean Series key will be reindexed to match DataFrame index.\n",
            "  This is separate from the ipykernel package so we can avoid doing imports until\n"
          ]
        },
        {
          "output_type": "execute_result",
          "data": {
            "text/plain": [
              "<matplotlib.axes._subplots.AxesSubplot at 0x7fc5d4cfb9d0>"
            ]
          },
          "metadata": {},
          "execution_count": 115
        },
        {
          "output_type": "display_data",
          "data": {
            "image/png": "[encoded data removed]",
            "text/plain": [
              "<Figure size 432x288 with 1 Axes>"
            ]
          },
          "metadata": {}
        }
      ]
    },
    {
      "cell_type": "code",
      "metadata": {
        "colab": {
          "base_uri": "https://localhost:8080/",
          "height": 317
        },
        "id": "ileVJ6dnIK71",
        "outputId": "30f9cb40-d34a-4e5c-d0a2-1b87624e37b0"
      },
      "source": [
        "new_dataset.describe()"
      ],
      "execution_count": 154,
      "outputs": [
        {
          "output_type": "execute_result",
          "data": {
            "text/html": [
              "<div>\n",
              "<style scoped>\n",
              "    .dataframe tbody tr th:only-of-type {\n",
              "        vertical-align: middle;\n",
              "    }\n",
              "\n",
              "    .dataframe tbody tr th {\n",
              "        vertical-align: top;\n",
              "    }\n",
              "\n",
              "    .dataframe thead th {\n",
              "        text-align: right;\n",
              "    }\n",
              "</style>\n",
              "<table border=\"1\" class=\"dataframe\">\n",
              "  <thead>\n",
              "    <tr style=\"text-align: right;\">\n",
              "      <th></th>\n",
              "      <th>nr_employees</th>\n",
              "      <th>nr_closed_cubicles</th>\n",
              "      <th>nr_meeting_room_total_occupancy</th>\n",
              "      <th>sqm_social_zones</th>\n",
              "      <th>sqm_net_area</th>\n",
              "      <th>industry_numeric</th>\n",
              "      <th>city_numeric</th>\n",
              "    </tr>\n",
              "  </thead>\n",
              "  <tbody>\n",
              "    <tr>\n",
              "      <th>count</th>\n",
              "      <td>1033.000000</td>\n",
              "      <td>1033.000000</td>\n",
              "      <td>1033.000000</td>\n",
              "      <td>1033.000000</td>\n",
              "      <td>1033.000000</td>\n",
              "      <td>1033.000000</td>\n",
              "      <td>1033.000000</td>\n",
              "    </tr>\n",
              "    <tr>\n",
              "      <th>mean</th>\n",
              "      <td>42.703775</td>\n",
              "      <td>16.239109</td>\n",
              "      <td>10.212004</td>\n",
              "      <td>117.266215</td>\n",
              "      <td>645.984511</td>\n",
              "      <td>0.614714</td>\n",
              "      <td>1.071636</td>\n",
              "    </tr>\n",
              "    <tr>\n",
              "      <th>std</th>\n",
              "      <td>13.338735</td>\n",
              "      <td>10.944094</td>\n",
              "      <td>3.762907</td>\n",
              "      <td>45.081062</td>\n",
              "      <td>279.208422</td>\n",
              "      <td>0.486898</td>\n",
              "      <td>0.859680</td>\n",
              "    </tr>\n",
              "    <tr>\n",
              "      <th>min</th>\n",
              "      <td>15.000000</td>\n",
              "      <td>3.000000</td>\n",
              "      <td>3.000000</td>\n",
              "      <td>29.000000</td>\n",
              "      <td>147.000000</td>\n",
              "      <td>0.000000</td>\n",
              "      <td>0.000000</td>\n",
              "    </tr>\n",
              "    <tr>\n",
              "      <th>25%</th>\n",
              "      <td>32.000000</td>\n",
              "      <td>9.000000</td>\n",
              "      <td>7.000000</td>\n",
              "      <td>80.000000</td>\n",
              "      <td>417.000000</td>\n",
              "      <td>0.000000</td>\n",
              "      <td>0.000000</td>\n",
              "    </tr>\n",
              "    <tr>\n",
              "      <th>50%</th>\n",
              "      <td>44.000000</td>\n",
              "      <td>12.000000</td>\n",
              "      <td>10.000000</td>\n",
              "      <td>120.000000</td>\n",
              "      <td>632.000000</td>\n",
              "      <td>1.000000</td>\n",
              "      <td>1.000000</td>\n",
              "    </tr>\n",
              "    <tr>\n",
              "      <th>75%</th>\n",
              "      <td>54.000000</td>\n",
              "      <td>21.000000</td>\n",
              "      <td>13.000000</td>\n",
              "      <td>155.000000</td>\n",
              "      <td>839.000000</td>\n",
              "      <td>1.000000</td>\n",
              "      <td>2.000000</td>\n",
              "    </tr>\n",
              "    <tr>\n",
              "      <th>max</th>\n",
              "      <td>65.000000</td>\n",
              "      <td>53.000000</td>\n",
              "      <td>24.000000</td>\n",
              "      <td>196.000000</td>\n",
              "      <td>1568.000000</td>\n",
              "      <td>1.000000</td>\n",
              "      <td>2.000000</td>\n",
              "    </tr>\n",
              "  </tbody>\n",
              "</table>\n",
              "</div>"
            ],
            "text/plain": [
              "       nr_employees  nr_closed_cubicles  ...  industry_numeric  city_numeric\n",
              "count   1033.000000         1033.000000  ...       1033.000000   1033.000000\n",
              "mean      42.703775           16.239109  ...          0.614714      1.071636\n",
              "std       13.338735           10.944094  ...          0.486898      0.859680\n",
              "min       15.000000            3.000000  ...          0.000000      0.000000\n",
              "25%       32.000000            9.000000  ...          0.000000      0.000000\n",
              "50%       44.000000           12.000000  ...          1.000000      1.000000\n",
              "75%       54.000000           21.000000  ...          1.000000      2.000000\n",
              "max       65.000000           53.000000  ...          1.000000      2.000000\n",
              "\n",
              "[8 rows x 7 columns]"
            ]
          },
          "metadata": {},
          "execution_count": 154
        }
      ]
    },
    {
      "cell_type": "code",
      "metadata": {
        "colab": {
          "base_uri": "https://localhost:8080/",
          "height": 439
        },
        "id": "i4FddY3AMjnL",
        "outputId": "03a08407-1f6a-4092-d00e-c435737f0568"
      },
      "source": [
        "new_dataset[(new_dataset['nr_closed_cubicles'] < 60)]"
      ],
      "execution_count": 211,
      "outputs": [
        {
          "output_type": "execute_result",
          "data": {
            "text/html": [
              "<div>\n",
              "<style scoped>\n",
              "    .dataframe tbody tr th:only-of-type {\n",
              "        vertical-align: middle;\n",
              "    }\n",
              "\n",
              "    .dataframe tbody tr th {\n",
              "        vertical-align: top;\n",
              "    }\n",
              "\n",
              "    .dataframe thead th {\n",
              "        text-align: right;\n",
              "    }\n",
              "</style>\n",
              "<table border=\"1\" class=\"dataframe\">\n",
              "  <thead>\n",
              "    <tr style=\"text-align: right;\">\n",
              "      <th></th>\n",
              "      <th>nr_employees</th>\n",
              "      <th>nr_closed_cubicles</th>\n",
              "      <th>nr_meeting_room_total_occupancy</th>\n",
              "      <th>sqm_social_zones</th>\n",
              "      <th>sqm_net_area</th>\n",
              "      <th>industry_numeric</th>\n",
              "      <th>city_numeric</th>\n",
              "    </tr>\n",
              "  </thead>\n",
              "  <tbody>\n",
              "    <tr>\n",
              "      <th>1</th>\n",
              "      <td>21</td>\n",
              "      <td>6</td>\n",
              "      <td>5</td>\n",
              "      <td>46</td>\n",
              "      <td>262</td>\n",
              "      <td>1</td>\n",
              "      <td>0</td>\n",
              "    </tr>\n",
              "    <tr>\n",
              "      <th>2</th>\n",
              "      <td>40</td>\n",
              "      <td>11</td>\n",
              "      <td>10</td>\n",
              "      <td>106</td>\n",
              "      <td>520</td>\n",
              "      <td>1</td>\n",
              "      <td>2</td>\n",
              "    </tr>\n",
              "    <tr>\n",
              "      <th>5</th>\n",
              "      <td>62</td>\n",
              "      <td>37</td>\n",
              "      <td>13</td>\n",
              "      <td>185</td>\n",
              "      <td>1140</td>\n",
              "      <td>0</td>\n",
              "      <td>2</td>\n",
              "    </tr>\n",
              "    <tr>\n",
              "      <th>15</th>\n",
              "      <td>54</td>\n",
              "      <td>12</td>\n",
              "      <td>10</td>\n",
              "      <td>155</td>\n",
              "      <td>551</td>\n",
              "      <td>1</td>\n",
              "      <td>1</td>\n",
              "    </tr>\n",
              "    <tr>\n",
              "      <th>17</th>\n",
              "      <td>31</td>\n",
              "      <td>6</td>\n",
              "      <td>7</td>\n",
              "      <td>77</td>\n",
              "      <td>360</td>\n",
              "      <td>1</td>\n",
              "      <td>1</td>\n",
              "    </tr>\n",
              "    <tr>\n",
              "      <th>...</th>\n",
              "      <td>...</td>\n",
              "      <td>...</td>\n",
              "      <td>...</td>\n",
              "      <td>...</td>\n",
              "      <td>...</td>\n",
              "      <td>...</td>\n",
              "      <td>...</td>\n",
              "    </tr>\n",
              "    <tr>\n",
              "      <th>1996</th>\n",
              "      <td>16</td>\n",
              "      <td>9</td>\n",
              "      <td>4</td>\n",
              "      <td>32</td>\n",
              "      <td>219</td>\n",
              "      <td>0</td>\n",
              "      <td>2</td>\n",
              "    </tr>\n",
              "    <tr>\n",
              "      <th>1997</th>\n",
              "      <td>42</td>\n",
              "      <td>21</td>\n",
              "      <td>10</td>\n",
              "      <td>113</td>\n",
              "      <td>616</td>\n",
              "      <td>0</td>\n",
              "      <td>2</td>\n",
              "    </tr>\n",
              "    <tr>\n",
              "      <th>1998</th>\n",
              "      <td>43</td>\n",
              "      <td>22</td>\n",
              "      <td>10</td>\n",
              "      <td>117</td>\n",
              "      <td>740</td>\n",
              "      <td>0</td>\n",
              "      <td>2</td>\n",
              "    </tr>\n",
              "    <tr>\n",
              "      <th>1999</th>\n",
              "      <td>16</td>\n",
              "      <td>8</td>\n",
              "      <td>3</td>\n",
              "      <td>32</td>\n",
              "      <td>167</td>\n",
              "      <td>0</td>\n",
              "      <td>2</td>\n",
              "    </tr>\n",
              "    <tr>\n",
              "      <th>2000</th>\n",
              "      <td>63</td>\n",
              "      <td>37</td>\n",
              "      <td>17</td>\n",
              "      <td>188</td>\n",
              "      <td>1196</td>\n",
              "      <td>0</td>\n",
              "      <td>2</td>\n",
              "    </tr>\n",
              "  </tbody>\n",
              "</table>\n",
              "<p>1033 rows × 7 columns</p>\n",
              "</div>"
            ],
            "text/plain": [
              "      nr_employees  nr_closed_cubicles  ...  industry_numeric  city_numeric\n",
              "1               21                   6  ...                 1             0\n",
              "2               40                  11  ...                 1             2\n",
              "5               62                  37  ...                 0             2\n",
              "15              54                  12  ...                 1             1\n",
              "17              31                   6  ...                 1             1\n",
              "...            ...                 ...  ...               ...           ...\n",
              "1996            16                   9  ...                 0             2\n",
              "1997            42                  21  ...                 0             2\n",
              "1998            43                  22  ...                 0             2\n",
              "1999            16                   8  ...                 0             2\n",
              "2000            63                  37  ...                 0             2\n",
              "\n",
              "[1033 rows x 7 columns]"
            ]
          },
          "metadata": {},
          "execution_count": 211
        }
      ]
    },
    {
      "cell_type": "code",
      "metadata": {
        "id": "HBEVTmpvQDG4"
      },
      "source": [
        "new_dataset.drop(8, inplace=True)"
      ],
      "execution_count": 101,
      "outputs": []
    },
    {
      "cell_type": "code",
      "metadata": {
        "colab": {
          "base_uri": "https://localhost:8080/",
          "height": 297
        },
        "id": "0gXd92p2JwzT",
        "outputId": "44708852-9fb7-4920-9b61-520a95589301"
      },
      "source": [
        "sns.scatterplot(data = new_dataset[(new_dataset['nr_employees'] < 150)], x = 'nr_employees', y = 'sqm_net_area', hue = 'industry_numeric', marker = 'o')"
      ],
      "execution_count": 152,
      "outputs": [
        {
          "output_type": "execute_result",
          "data": {
            "text/plain": [
              "<matplotlib.axes._subplots.AxesSubplot at 0x7fc5d25e6990>"
            ]
          },
          "metadata": {},
          "execution_count": 152
        },
        {
          "output_type": "display_data",
          "data": {
            "image/png": "[encoded data removed]",
            "text/plain": [
              "<Figure size 432x288 with 1 Axes>"
            ]
          },
          "metadata": {}
        }
      ]
    },
    {
      "cell_type": "code",
      "metadata": {
        "colab": {
          "base_uri": "https://localhost:8080/",
          "height": 300
        },
        "id": "n1lieXnrJ5kJ",
        "outputId": "8b02a304-5203-4ea1-a8fc-3e1826547a4e"
      },
      "source": [
        "sns.lineplot(data = new_dataset[(new_dataset['nr_employees'] < 100)], x = 'nr_employees', y = 'sqm_net_area', hue = 'industry_numeric', marker = 'o')"
      ],
      "execution_count": 157,
      "outputs": [
        {
          "output_type": "execute_result",
          "data": {
            "text/plain": [
              "<matplotlib.axes._subplots.AxesSubplot at 0x7fc5d2328090>"
            ]
          },
          "metadata": {},
          "execution_count": 157
        },
        {
          "output_type": "display_data",
          "data": {
            "image/png": "[encoded data removed]",
            "text/plain": [
              "<Figure size 432x288 with 1 Axes>"
            ]
          },
          "metadata": {}
        }
      ]
    },
    {
      "cell_type": "code",
      "metadata": {
        "colab": {
          "base_uri": "https://localhost:8080/"
        },
        "id": "C5YlJRDwKZ1O",
        "outputId": "ae2ed40f-11e5-422c-8405-e09a25cf180a"
      },
      "source": [
        "# removing outliers in either direction\n",
        "new_dataset.drop(new_dataset[(new_dataset['nr_employees'] > 65)].index, inplace = True)\n",
        "new_dataset['nr_employees'].describe()"
      ],
      "execution_count": 146,
      "outputs": [
        {
          "output_type": "execute_result",
          "data": {
            "text/plain": [
              "count    1033.000000\n",
              "mean       42.703775\n",
              "std        13.338735\n",
              "min        15.000000\n",
              "25%        32.000000\n",
              "50%        44.000000\n",
              "75%        54.000000\n",
              "max        65.000000\n",
              "Name: nr_employees, dtype: float64"
            ]
          },
          "metadata": {},
          "execution_count": 146
        }
      ]
    },
    {
      "cell_type": "code",
      "metadata": {
        "id": "DV-cxcsOLmYC"
      },
      "source": [
        "from sklearn.linear_model import LinearRegression"
      ],
      "execution_count": 73,
      "outputs": []
    },
    {
      "cell_type": "code",
      "metadata": {
        "id": "Wfxy1y8YVIZe"
      },
      "source": [
        "# splits dataset into training and test set\n",
        "training_dataset, testing_dataset = train_test_split(new_dataset, test_size = 0.2, shuffle = True)"
      ],
      "execution_count": 158,
      "outputs": []
    },
    {
      "cell_type": "code",
      "metadata": {
        "colab": {
          "base_uri": "https://localhost:8080/",
          "height": 204
        },
        "id": "Cu4iMHqRVMdN",
        "outputId": "6f5fdacb-eafb-420d-e3d3-d33f6ee7dbb5"
      },
      "source": [
        "# removes the label from the training dataset\n",
        "training_x = training_dataset.drop('sqm_net_area', axis = 1)\n",
        "training_y = training_dataset['sqm_net_area']\n",
        "training_x.head()"
      ],
      "execution_count": 159,
      "outputs": [
        {
          "output_type": "execute_result",
          "data": {
            "text/html": [
              "<div>\n",
              "<style scoped>\n",
              "    .dataframe tbody tr th:only-of-type {\n",
              "        vertical-align: middle;\n",
              "    }\n",
              "\n",
              "    .dataframe tbody tr th {\n",
              "        vertical-align: top;\n",
              "    }\n",
              "\n",
              "    .dataframe thead th {\n",
              "        text-align: right;\n",
              "    }\n",
              "</style>\n",
              "<table border=\"1\" class=\"dataframe\">\n",
              "  <thead>\n",
              "    <tr style=\"text-align: right;\">\n",
              "      <th></th>\n",
              "      <th>nr_employees</th>\n",
              "      <th>nr_closed_cubicles</th>\n",
              "      <th>nr_meeting_room_total_occupancy</th>\n",
              "      <th>sqm_social_zones</th>\n",
              "      <th>industry_numeric</th>\n",
              "      <th>city_numeric</th>\n",
              "    </tr>\n",
              "  </thead>\n",
              "  <tbody>\n",
              "    <tr>\n",
              "      <th>697</th>\n",
              "      <td>56</td>\n",
              "      <td>15</td>\n",
              "      <td>17</td>\n",
              "      <td>163</td>\n",
              "      <td>1</td>\n",
              "      <td>0</td>\n",
              "    </tr>\n",
              "    <tr>\n",
              "      <th>53</th>\n",
              "      <td>51</td>\n",
              "      <td>11</td>\n",
              "      <td>11</td>\n",
              "      <td>145</td>\n",
              "      <td>1</td>\n",
              "      <td>1</td>\n",
              "    </tr>\n",
              "    <tr>\n",
              "      <th>1405</th>\n",
              "      <td>54</td>\n",
              "      <td>43</td>\n",
              "      <td>11</td>\n",
              "      <td>155</td>\n",
              "      <td>0</td>\n",
              "      <td>1</td>\n",
              "    </tr>\n",
              "    <tr>\n",
              "      <th>853</th>\n",
              "      <td>23</td>\n",
              "      <td>6</td>\n",
              "      <td>5</td>\n",
              "      <td>52</td>\n",
              "      <td>1</td>\n",
              "      <td>2</td>\n",
              "    </tr>\n",
              "    <tr>\n",
              "      <th>237</th>\n",
              "      <td>32</td>\n",
              "      <td>6</td>\n",
              "      <td>7</td>\n",
              "      <td>80</td>\n",
              "      <td>1</td>\n",
              "      <td>1</td>\n",
              "    </tr>\n",
              "  </tbody>\n",
              "</table>\n",
              "</div>"
            ],
            "text/plain": [
              "      nr_employees  nr_closed_cubicles  ...  industry_numeric  city_numeric\n",
              "697             56                  15  ...                 1             0\n",
              "53              51                  11  ...                 1             1\n",
              "1405            54                  43  ...                 0             1\n",
              "853             23                   6  ...                 1             2\n",
              "237             32                   6  ...                 1             1\n",
              "\n",
              "[5 rows x 6 columns]"
            ]
          },
          "metadata": {},
          "execution_count": 159
        }
      ]
    },
    {
      "cell_type": "code",
      "metadata": {
        "colab": {
          "base_uri": "https://localhost:8080/",
          "height": 204
        },
        "id": "iSCk9nH-VRhr",
        "outputId": "0249dc72-896f-419b-aa0a-511919a3d363"
      },
      "source": [
        "# doing the same as above\n",
        "testing_x = testing_dataset.drop('sqm_net_area', axis = 1)\n",
        "testing_y = testing_dataset['sqm_net_area']\n",
        "testing_x.head()"
      ],
      "execution_count": 160,
      "outputs": [
        {
          "output_type": "execute_result",
          "data": {
            "text/html": [
              "<div>\n",
              "<style scoped>\n",
              "    .dataframe tbody tr th:only-of-type {\n",
              "        vertical-align: middle;\n",
              "    }\n",
              "\n",
              "    .dataframe tbody tr th {\n",
              "        vertical-align: top;\n",
              "    }\n",
              "\n",
              "    .dataframe thead th {\n",
              "        text-align: right;\n",
              "    }\n",
              "</style>\n",
              "<table border=\"1\" class=\"dataframe\">\n",
              "  <thead>\n",
              "    <tr style=\"text-align: right;\">\n",
              "      <th></th>\n",
              "      <th>nr_employees</th>\n",
              "      <th>nr_closed_cubicles</th>\n",
              "      <th>nr_meeting_room_total_occupancy</th>\n",
              "      <th>sqm_social_zones</th>\n",
              "      <th>industry_numeric</th>\n",
              "      <th>city_numeric</th>\n",
              "    </tr>\n",
              "  </thead>\n",
              "  <tbody>\n",
              "    <tr>\n",
              "      <th>1874</th>\n",
              "      <td>35</td>\n",
              "      <td>21</td>\n",
              "      <td>7</td>\n",
              "      <td>90</td>\n",
              "      <td>0</td>\n",
              "      <td>2</td>\n",
              "    </tr>\n",
              "    <tr>\n",
              "      <th>1772</th>\n",
              "      <td>30</td>\n",
              "      <td>18</td>\n",
              "      <td>6</td>\n",
              "      <td>74</td>\n",
              "      <td>0</td>\n",
              "      <td>2</td>\n",
              "    </tr>\n",
              "    <tr>\n",
              "      <th>718</th>\n",
              "      <td>64</td>\n",
              "      <td>14</td>\n",
              "      <td>22</td>\n",
              "      <td>192</td>\n",
              "      <td>1</td>\n",
              "      <td>0</td>\n",
              "    </tr>\n",
              "    <tr>\n",
              "      <th>529</th>\n",
              "      <td>52</td>\n",
              "      <td>11</td>\n",
              "      <td>19</td>\n",
              "      <td>148</td>\n",
              "      <td>1</td>\n",
              "      <td>0</td>\n",
              "    </tr>\n",
              "    <tr>\n",
              "      <th>891</th>\n",
              "      <td>36</td>\n",
              "      <td>6</td>\n",
              "      <td>8</td>\n",
              "      <td>93</td>\n",
              "      <td>1</td>\n",
              "      <td>2</td>\n",
              "    </tr>\n",
              "  </tbody>\n",
              "</table>\n",
              "</div>"
            ],
            "text/plain": [
              "      nr_employees  nr_closed_cubicles  ...  industry_numeric  city_numeric\n",
              "1874            35                  21  ...                 0             2\n",
              "1772            30                  18  ...                 0             2\n",
              "718             64                  14  ...                 1             0\n",
              "529             52                  11  ...                 1             0\n",
              "891             36                   6  ...                 1             2\n",
              "\n",
              "[5 rows x 6 columns]"
            ]
          },
          "metadata": {},
          "execution_count": 160
        }
      ]
    },
    {
      "cell_type": "code",
      "metadata": {
        "id": "UzOga21rVT24"
      },
      "source": [
        "# training AI with standard linear regression\n",
        "linreg_model = LinearRegression().fit(training_x, training_y)"
      ],
      "execution_count": 161,
      "outputs": []
    },
    {
      "cell_type": "code",
      "metadata": {
        "colab": {
          "base_uri": "https://localhost:8080/"
        },
        "id": "1FxJJT2tVXRg",
        "outputId": "e419c9ba-c2e3-4e33-9b7c-4a07fa9cf0c6"
      },
      "source": [
        "# testing how the AI fares\n",
        "linreg_model.score(testing_x, testing_y)"
      ],
      "execution_count": 163,
      "outputs": [
        {
          "output_type": "execute_result",
          "data": {
            "text/plain": [
              "0.8234690125780944"
            ]
          },
          "metadata": {},
          "execution_count": 163
        }
      ]
    },
    {
      "cell_type": "code",
      "metadata": {
        "colab": {
          "base_uri": "https://localhost:8080/"
        },
        "id": "1kzYWhC_dcBd",
        "outputId": "ea77ddad-278d-4e7d-db0a-9702f0a2355a"
      },
      "source": [
        "# training the AI with quadratic features to better fit the dataset\n",
        "from sklearn.preprocessing import PolynomialFeatures\n",
        "from sklearn.pipeline import make_pipeline\n",
        "degree = 2\n",
        "polyreg_model = make_pipeline(PolynomialFeatures(degree), LinearRegression())\n",
        "polyreg_model.fit(training_x, training_y)"
      ],
      "execution_count": 174,
      "outputs": [
        {
          "output_type": "execute_result",
          "data": {
            "text/plain": [
              "Pipeline(memory=None,\n",
              "         steps=[('polynomialfeatures',\n",
              "                 PolynomialFeatures(degree=2, include_bias=True,\n",
              "                                    interaction_only=False, order='C')),\n",
              "                ('linearregression',\n",
              "                 LinearRegression(copy_X=True, fit_intercept=True, n_jobs=None,\n",
              "                                  normalize=False))],\n",
              "         verbose=False)"
            ]
          },
          "metadata": {},
          "execution_count": 174
        }
      ]
    },
    {
      "cell_type": "code",
      "metadata": {
        "colab": {
          "base_uri": "https://localhost:8080/"
        },
        "id": "oVnprfA6deHZ",
        "outputId": "3544e5c0-60cd-4d34-b737-a94fa5b8660f"
      },
      "source": [
        "# testing the AI once more\n",
        "# as we can see the AI fares better with quadratic features\n",
        "polyreg_model.score(testing_x, testing_y)"
      ],
      "execution_count": 175,
      "outputs": [
        {
          "output_type": "execute_result",
          "data": {
            "text/plain": [
              "0.8848994949174652"
            ]
          },
          "metadata": {},
          "execution_count": 175
        }
      ]
    },
    {
      "cell_type": "code",
      "metadata": {
        "colab": {
          "base_uri": "https://localhost:8080/",
          "height": 224
        },
        "id": "GVG_GvhqdhJP",
        "outputId": "3316b8ab-ae1d-4591-e127-c0190bf6d8f2"
      },
      "source": [
        "# grouping the Dataframe based on industry, and placing them in two different dataframes\n",
        "grouped = new_dataset.groupby(new_dataset.industry_numeric)\n",
        "new_dataset_finance = grouped.get_group(0)\n",
        "new_dataset_tech = grouped.get_group(1)\n",
        "new_dataset_finance.head()"
      ],
      "execution_count": 177,
      "outputs": [
        {
          "output_type": "execute_result",
          "data": {
            "text/html": [
              "<div>\n",
              "<style scoped>\n",
              "    .dataframe tbody tr th:only-of-type {\n",
              "        vertical-align: middle;\n",
              "    }\n",
              "\n",
              "    .dataframe tbody tr th {\n",
              "        vertical-align: top;\n",
              "    }\n",
              "\n",
              "    .dataframe thead th {\n",
              "        text-align: right;\n",
              "    }\n",
              "</style>\n",
              "<table border=\"1\" class=\"dataframe\">\n",
              "  <thead>\n",
              "    <tr style=\"text-align: right;\">\n",
              "      <th></th>\n",
              "      <th>nr_employees</th>\n",
              "      <th>nr_closed_cubicles</th>\n",
              "      <th>nr_meeting_room_total_occupancy</th>\n",
              "      <th>sqm_social_zones</th>\n",
              "      <th>sqm_net_area</th>\n",
              "      <th>industry_numeric</th>\n",
              "      <th>city_numeric</th>\n",
              "    </tr>\n",
              "  </thead>\n",
              "  <tbody>\n",
              "    <tr>\n",
              "      <th>5</th>\n",
              "      <td>62</td>\n",
              "      <td>37</td>\n",
              "      <td>13</td>\n",
              "      <td>185</td>\n",
              "      <td>1140</td>\n",
              "      <td>0</td>\n",
              "      <td>2</td>\n",
              "    </tr>\n",
              "    <tr>\n",
              "      <th>1008</th>\n",
              "      <td>53</td>\n",
              "      <td>41</td>\n",
              "      <td>12</td>\n",
              "      <td>152</td>\n",
              "      <td>765</td>\n",
              "      <td>0</td>\n",
              "      <td>1</td>\n",
              "    </tr>\n",
              "    <tr>\n",
              "      <th>1012</th>\n",
              "      <td>45</td>\n",
              "      <td>34</td>\n",
              "      <td>10</td>\n",
              "      <td>124</td>\n",
              "      <td>650</td>\n",
              "      <td>0</td>\n",
              "      <td>1</td>\n",
              "    </tr>\n",
              "    <tr>\n",
              "      <th>1013</th>\n",
              "      <td>63</td>\n",
              "      <td>52</td>\n",
              "      <td>15</td>\n",
              "      <td>188</td>\n",
              "      <td>1121</td>\n",
              "      <td>0</td>\n",
              "      <td>1</td>\n",
              "    </tr>\n",
              "    <tr>\n",
              "      <th>1030</th>\n",
              "      <td>64</td>\n",
              "      <td>52</td>\n",
              "      <td>11</td>\n",
              "      <td>192</td>\n",
              "      <td>1056</td>\n",
              "      <td>0</td>\n",
              "      <td>1</td>\n",
              "    </tr>\n",
              "  </tbody>\n",
              "</table>\n",
              "</div>"
            ],
            "text/plain": [
              "      nr_employees  nr_closed_cubicles  ...  industry_numeric  city_numeric\n",
              "5               62                  37  ...                 0             2\n",
              "1008            53                  41  ...                 0             1\n",
              "1012            45                  34  ...                 0             1\n",
              "1013            63                  52  ...                 0             1\n",
              "1030            64                  52  ...                 0             1\n",
              "\n",
              "[5 rows x 7 columns]"
            ]
          },
          "metadata": {},
          "execution_count": 177
        }
      ]
    },
    {
      "cell_type": "code",
      "metadata": {
        "colab": {
          "base_uri": "https://localhost:8080/",
          "height": 224
        },
        "id": "ZzjnyBB3gH9d",
        "outputId": "ee4159bc-e2d0-4d7d-dc14-fc0b3c97abe8"
      },
      "source": [
        "# tech Dataframe\n",
        "new_dataset_tech.head()"
      ],
      "execution_count": 178,
      "outputs": [
        {
          "output_type": "execute_result",
          "data": {
            "text/html": [
              "<div>\n",
              "<style scoped>\n",
              "    .dataframe tbody tr th:only-of-type {\n",
              "        vertical-align: middle;\n",
              "    }\n",
              "\n",
              "    .dataframe tbody tr th {\n",
              "        vertical-align: top;\n",
              "    }\n",
              "\n",
              "    .dataframe thead th {\n",
              "        text-align: right;\n",
              "    }\n",
              "</style>\n",
              "<table border=\"1\" class=\"dataframe\">\n",
              "  <thead>\n",
              "    <tr style=\"text-align: right;\">\n",
              "      <th></th>\n",
              "      <th>nr_employees</th>\n",
              "      <th>nr_closed_cubicles</th>\n",
              "      <th>nr_meeting_room_total_occupancy</th>\n",
              "      <th>sqm_social_zones</th>\n",
              "      <th>sqm_net_area</th>\n",
              "      <th>industry_numeric</th>\n",
              "      <th>city_numeric</th>\n",
              "    </tr>\n",
              "  </thead>\n",
              "  <tbody>\n",
              "    <tr>\n",
              "      <th>1</th>\n",
              "      <td>21</td>\n",
              "      <td>6</td>\n",
              "      <td>5</td>\n",
              "      <td>46</td>\n",
              "      <td>262</td>\n",
              "      <td>1</td>\n",
              "      <td>0</td>\n",
              "    </tr>\n",
              "    <tr>\n",
              "      <th>2</th>\n",
              "      <td>40</td>\n",
              "      <td>11</td>\n",
              "      <td>10</td>\n",
              "      <td>106</td>\n",
              "      <td>520</td>\n",
              "      <td>1</td>\n",
              "      <td>2</td>\n",
              "    </tr>\n",
              "    <tr>\n",
              "      <th>15</th>\n",
              "      <td>54</td>\n",
              "      <td>12</td>\n",
              "      <td>10</td>\n",
              "      <td>155</td>\n",
              "      <td>551</td>\n",
              "      <td>1</td>\n",
              "      <td>1</td>\n",
              "    </tr>\n",
              "    <tr>\n",
              "      <th>17</th>\n",
              "      <td>31</td>\n",
              "      <td>6</td>\n",
              "      <td>7</td>\n",
              "      <td>77</td>\n",
              "      <td>360</td>\n",
              "      <td>1</td>\n",
              "      <td>1</td>\n",
              "    </tr>\n",
              "    <tr>\n",
              "      <th>20</th>\n",
              "      <td>52</td>\n",
              "      <td>11</td>\n",
              "      <td>9</td>\n",
              "      <td>148</td>\n",
              "      <td>460</td>\n",
              "      <td>1</td>\n",
              "      <td>1</td>\n",
              "    </tr>\n",
              "  </tbody>\n",
              "</table>\n",
              "</div>"
            ],
            "text/plain": [
              "    nr_employees  nr_closed_cubicles  ...  industry_numeric  city_numeric\n",
              "1             21                   6  ...                 1             0\n",
              "2             40                  11  ...                 1             2\n",
              "15            54                  12  ...                 1             1\n",
              "17            31                   6  ...                 1             1\n",
              "20            52                  11  ...                 1             1\n",
              "\n",
              "[5 rows x 7 columns]"
            ]
          },
          "metadata": {},
          "execution_count": 178
        }
      ]
    },
    {
      "cell_type": "code",
      "metadata": {
        "id": "DhqFnZiTgJK6"
      },
      "source": [
        "# splits dataset into training and test set\n",
        "training_dataset_finance, testing_dataset_finance = train_test_split(new_dataset_finance, test_size = 0.2, shuffle = True)\n",
        "training_dataset_tech, testing_dataset_tech = train_test_split(new_dataset_tech, test_size = 0.2, shuffle = True)"
      ],
      "execution_count": 179,
      "outputs": []
    },
    {
      "cell_type": "code",
      "metadata": {
        "colab": {
          "base_uri": "https://localhost:8080/",
          "height": 204
        },
        "id": "RKAGKO3dgSE3",
        "outputId": "285a1250-f70e-402b-d964-00152ab558c7"
      },
      "source": [
        "# removes the label from both Dataframes, both training and testing sets\n",
        "training_finance_x = training_dataset_finance.drop('sqm_net_area', axis = 1)\n",
        "training_finance_y = training_dataset_finance['sqm_net_area']\n",
        "training_tech_x = training_dataset_tech.drop('sqm_net_area', axis = 1)\n",
        "training_tech_y = training_dataset_tech['sqm_net_area']\n",
        "testing_finance_x = testing_dataset_finance.drop('sqm_net_area', axis = 1)\n",
        "testing_finance_y = testing_dataset_finance['sqm_net_area']\n",
        "testing_tech_x = testing_dataset_tech.drop('sqm_net_area', axis = 1)\n",
        "testing_tech_y = testing_dataset_tech['sqm_net_area']\n",
        "# checking to see if everything was split and arranged correctly\n",
        "training_tech_x.head()"
      ],
      "execution_count": 181,
      "outputs": [
        {
          "output_type": "execute_result",
          "data": {
            "text/html": [
              "<div>\n",
              "<style scoped>\n",
              "    .dataframe tbody tr th:only-of-type {\n",
              "        vertical-align: middle;\n",
              "    }\n",
              "\n",
              "    .dataframe tbody tr th {\n",
              "        vertical-align: top;\n",
              "    }\n",
              "\n",
              "    .dataframe thead th {\n",
              "        text-align: right;\n",
              "    }\n",
              "</style>\n",
              "<table border=\"1\" class=\"dataframe\">\n",
              "  <thead>\n",
              "    <tr style=\"text-align: right;\">\n",
              "      <th></th>\n",
              "      <th>nr_employees</th>\n",
              "      <th>nr_closed_cubicles</th>\n",
              "      <th>nr_meeting_room_total_occupancy</th>\n",
              "      <th>sqm_social_zones</th>\n",
              "      <th>industry_numeric</th>\n",
              "      <th>city_numeric</th>\n",
              "    </tr>\n",
              "  </thead>\n",
              "  <tbody>\n",
              "    <tr>\n",
              "      <th>547</th>\n",
              "      <td>46</td>\n",
              "      <td>10</td>\n",
              "      <td>15</td>\n",
              "      <td>127</td>\n",
              "      <td>1</td>\n",
              "      <td>0</td>\n",
              "    </tr>\n",
              "    <tr>\n",
              "      <th>173</th>\n",
              "      <td>45</td>\n",
              "      <td>10</td>\n",
              "      <td>9</td>\n",
              "      <td>124</td>\n",
              "      <td>1</td>\n",
              "      <td>1</td>\n",
              "    </tr>\n",
              "    <tr>\n",
              "      <th>786</th>\n",
              "      <td>20</td>\n",
              "      <td>5</td>\n",
              "      <td>5</td>\n",
              "      <td>43</td>\n",
              "      <td>1</td>\n",
              "      <td>2</td>\n",
              "    </tr>\n",
              "    <tr>\n",
              "      <th>858</th>\n",
              "      <td>37</td>\n",
              "      <td>8</td>\n",
              "      <td>7</td>\n",
              "      <td>96</td>\n",
              "      <td>1</td>\n",
              "      <td>2</td>\n",
              "    </tr>\n",
              "    <tr>\n",
              "      <th>161</th>\n",
              "      <td>50</td>\n",
              "      <td>11</td>\n",
              "      <td>11</td>\n",
              "      <td>141</td>\n",
              "      <td>1</td>\n",
              "      <td>1</td>\n",
              "    </tr>\n",
              "  </tbody>\n",
              "</table>\n",
              "</div>"
            ],
            "text/plain": [
              "     nr_employees  nr_closed_cubicles  ...  industry_numeric  city_numeric\n",
              "547            46                  10  ...                 1             0\n",
              "173            45                  10  ...                 1             1\n",
              "786            20                   5  ...                 1             2\n",
              "858            37                   8  ...                 1             2\n",
              "161            50                  11  ...                 1             1\n",
              "\n",
              "[5 rows x 6 columns]"
            ]
          },
          "metadata": {},
          "execution_count": 181
        }
      ]
    },
    {
      "cell_type": "code",
      "metadata": {
        "id": "Hlu0tJSNgaar"
      },
      "source": [
        "# training finance AI with standard linear regression\n",
        "linreg_model_finance = LinearRegression().fit(training_finance_x, training_finance_y)"
      ],
      "execution_count": 182,
      "outputs": []
    },
    {
      "cell_type": "code",
      "metadata": {
        "id": "nybFmDGRgdLp"
      },
      "source": [
        "# training tech AI with standard linear regression\n",
        "linreg_model_tech = LinearRegression().fit(training_tech_x, training_tech_y)"
      ],
      "execution_count": 183,
      "outputs": []
    },
    {
      "cell_type": "code",
      "metadata": {
        "colab": {
          "base_uri": "https://localhost:8080/"
        },
        "id": "eb4vQFT4ge93",
        "outputId": "691eb6df-e504-45e5-d0d8-9d73e598d7e0"
      },
      "source": [
        "# testing how the finance AI fares\n",
        "linreg_model_finance.score(testing_finance_x, testing_finance_y)"
      ],
      "execution_count": 184,
      "outputs": [
        {
          "output_type": "execute_result",
          "data": {
            "text/plain": [
              "0.8627366211244011"
            ]
          },
          "metadata": {},
          "execution_count": 184
        }
      ]
    },
    {
      "cell_type": "code",
      "metadata": {
        "colab": {
          "base_uri": "https://localhost:8080/"
        },
        "id": "PU-nu6fPgg9W",
        "outputId": "e6d55b14-a0d2-4866-b585-a16a627979e6"
      },
      "source": [
        "# testing how the tech AI fares\n",
        "linreg_model_tech.score(testing_tech_x, testing_tech_y)"
      ],
      "execution_count": 185,
      "outputs": [
        {
          "output_type": "execute_result",
          "data": {
            "text/plain": [
              "0.8530275131978756"
            ]
          },
          "metadata": {},
          "execution_count": 185
        }
      ]
    },
    {
      "cell_type": "code",
      "metadata": {
        "colab": {
          "base_uri": "https://localhost:8080/"
        },
        "id": "ODftbRgVgkXw",
        "outputId": "15b8c934-ab55-4c55-9468-0ae649070a20"
      },
      "source": [
        "# training the finance AI with quadratic features to better fit the dataset\n",
        "degree = 2\n",
        "polyreg_finance_model = make_pipeline(PolynomialFeatures(degree), LinearRegression())\n",
        "polyreg_finance_model.fit(training_finance_x, training_finance_y)"
      ],
      "execution_count": 207,
      "outputs": [
        {
          "output_type": "execute_result",
          "data": {
            "text/plain": [
              "Pipeline(memory=None,\n",
              "         steps=[('polynomialfeatures',\n",
              "                 PolynomialFeatures(degree=2, include_bias=True,\n",
              "                                    interaction_only=False, order='C')),\n",
              "                ('linearregression',\n",
              "                 LinearRegression(copy_X=True, fit_intercept=True, n_jobs=None,\n",
              "                                  normalize=False))],\n",
              "         verbose=False)"
            ]
          },
          "metadata": {},
          "execution_count": 207
        }
      ]
    },
    {
      "cell_type": "code",
      "metadata": {
        "colab": {
          "base_uri": "https://localhost:8080/"
        },
        "id": "ARxqcK8Hgm96",
        "outputId": "c198334b-b05b-43d0-ad3e-e0cd8227cfe7"
      },
      "source": [
        "# training the tech AI with quadratic features to better fit the dataset\n",
        "degree = 2\n",
        "polyreg_tech_model = make_pipeline(PolynomialFeatures(degree), LinearRegression())\n",
        "polyreg_tech_model.fit(training_tech_x, training_tech_y)"
      ],
      "execution_count": 208,
      "outputs": [
        {
          "output_type": "execute_result",
          "data": {
            "text/plain": [
              "Pipeline(memory=None,\n",
              "         steps=[('polynomialfeatures',\n",
              "                 PolynomialFeatures(degree=2, include_bias=True,\n",
              "                                    interaction_only=False, order='C')),\n",
              "                ('linearregression',\n",
              "                 LinearRegression(copy_X=True, fit_intercept=True, n_jobs=None,\n",
              "                                  normalize=False))],\n",
              "         verbose=False)"
            ]
          },
          "metadata": {},
          "execution_count": 208
        }
      ]
    },
    {
      "cell_type": "code",
      "metadata": {
        "colab": {
          "base_uri": "https://localhost:8080/"
        },
        "id": "XW1T7WpZgpU7",
        "outputId": "8ef65aa9-3625-475a-926c-861e154ec278"
      },
      "source": [
        "# testing the finance AI with quadratic regression\n",
        "polyreg_finance_model.score(testing_finance_x, testing_finance_y)"
      ],
      "execution_count": 209,
      "outputs": [
        {
          "output_type": "execute_result",
          "data": {
            "text/plain": [
              "0.9016870950201067"
            ]
          },
          "metadata": {},
          "execution_count": 209
        }
      ]
    },
    {
      "cell_type": "code",
      "metadata": {
        "colab": {
          "base_uri": "https://localhost:8080/"
        },
        "id": "gmRD3DSSgsCM",
        "outputId": "a257db12-dae4-4ce0-c194-3ea8824c321e"
      },
      "source": [
        "# testing the tech AI with quadratic regression\n",
        "polyreg_tech_model.score(testing_tech_x, testing_tech_y)"
      ],
      "execution_count": 210,
      "outputs": [
        {
          "output_type": "execute_result",
          "data": {
            "text/plain": [
              "0.8996810733704881"
            ]
          },
          "metadata": {},
          "execution_count": 210
        }
      ]
    },
    {
      "cell_type": "code",
      "metadata": {
        "id": "QGzoSuZFgt6v"
      },
      "source": [
        "# grouping the Dataframe based on location, and placing them in three different dataframes\n",
        "grouped = new_dataset.groupby(new_dataset.city_numeric)\n",
        "new_dataset_Bergen = grouped.get_group(0)\n",
        "new_dataset_Oslo = grouped.get_group(1)\n",
        "new_dataset_Trondheim = grouped.get_group(2)"
      ],
      "execution_count": null,
      "outputs": []
    },
    {
      "cell_type": "code",
      "metadata": {
        "colab": {
          "base_uri": "https://localhost:8080/",
          "height": 224
        },
        "id": "r61b003Ti9dz",
        "outputId": "61316a14-1bee-4d7a-b97d-bebc78feb013"
      },
      "source": [
        ""
      ],
      "execution_count": 214,
      "outputs": [
        {
          "output_type": "execute_result",
          "data": {
            "text/html": [
              "<div>\n",
              "<style scoped>\n",
              "    .dataframe tbody tr th:only-of-type {\n",
              "        vertical-align: middle;\n",
              "    }\n",
              "\n",
              "    .dataframe tbody tr th {\n",
              "        vertical-align: top;\n",
              "    }\n",
              "\n",
              "    .dataframe thead th {\n",
              "        text-align: right;\n",
              "    }\n",
              "</style>\n",
              "<table border=\"1\" class=\"dataframe\">\n",
              "  <thead>\n",
              "    <tr style=\"text-align: right;\">\n",
              "      <th></th>\n",
              "      <th>nr_employees</th>\n",
              "      <th>nr_closed_cubicles</th>\n",
              "      <th>nr_meeting_room_total_occupancy</th>\n",
              "      <th>sqm_social_zones</th>\n",
              "      <th>sqm_net_area</th>\n",
              "      <th>industry_numeric</th>\n",
              "      <th>city_numeric</th>\n",
              "    </tr>\n",
              "  </thead>\n",
              "  <tbody>\n",
              "    <tr>\n",
              "      <th>2</th>\n",
              "      <td>40</td>\n",
              "      <td>11</td>\n",
              "      <td>10</td>\n",
              "      <td>106</td>\n",
              "      <td>520</td>\n",
              "      <td>1</td>\n",
              "      <td>2</td>\n",
              "    </tr>\n",
              "    <tr>\n",
              "      <th>5</th>\n",
              "      <td>62</td>\n",
              "      <td>37</td>\n",
              "      <td>13</td>\n",
              "      <td>185</td>\n",
              "      <td>1140</td>\n",
              "      <td>0</td>\n",
              "      <td>2</td>\n",
              "    </tr>\n",
              "    <tr>\n",
              "      <th>750</th>\n",
              "      <td>57</td>\n",
              "      <td>12</td>\n",
              "      <td>13</td>\n",
              "      <td>166</td>\n",
              "      <td>938</td>\n",
              "      <td>1</td>\n",
              "      <td>2</td>\n",
              "    </tr>\n",
              "    <tr>\n",
              "      <th>751</th>\n",
              "      <td>34</td>\n",
              "      <td>9</td>\n",
              "      <td>8</td>\n",
              "      <td>86</td>\n",
              "      <td>434</td>\n",
              "      <td>1</td>\n",
              "      <td>2</td>\n",
              "    </tr>\n",
              "    <tr>\n",
              "      <th>752</th>\n",
              "      <td>22</td>\n",
              "      <td>6</td>\n",
              "      <td>4</td>\n",
              "      <td>49</td>\n",
              "      <td>295</td>\n",
              "      <td>1</td>\n",
              "      <td>2</td>\n",
              "    </tr>\n",
              "  </tbody>\n",
              "</table>\n",
              "</div>"
            ],
            "text/plain": [
              "     nr_employees  nr_closed_cubicles  ...  industry_numeric  city_numeric\n",
              "2              40                  11  ...                 1             2\n",
              "5              62                  37  ...                 0             2\n",
              "750            57                  12  ...                 1             2\n",
              "751            34                   9  ...                 1             2\n",
              "752            22                   6  ...                 1             2\n",
              "\n",
              "[5 rows x 7 columns]"
            ]
          },
          "metadata": {},
          "execution_count": 214
        }
      ]
    },
    {
      "cell_type": "code",
      "metadata": {
        "id": "6yPTqhAgkdj9"
      },
      "source": [
        "# splits dataset into training and test set\n",
        "training_dataset_Bergen, testing_dataset_Bergen = train_test_split(new_dataset_Bergen, test_size = 0.2, shuffle = True)\n",
        "training_dataset_Oslo, testing_dataset_Oslo = train_test_split(new_dataset_Oslo, test_size = 0.2, shuffle = True)\n",
        "training_dataset_Trondheim, testing_dataset_Trondheim = train_test_split(new_dataset_Trondheim, test_size = 0.2, shuffle = True)"
      ],
      "execution_count": 215,
      "outputs": []
    },
    {
      "cell_type": "code",
      "metadata": {
        "id": "PZQX0ouak8o1"
      },
      "source": [
        "# removes the label from both Dataframes, both training and testing sets\n",
        "training_Bergen_x = training_dataset_Bergen.drop('sqm_net_area', axis = 1)\n",
        "training_Bergen_y = training_dataset_Bergen['sqm_net_area']\n",
        "training_Oslo_x = training_dataset_Oslo.drop('sqm_net_area', axis = 1)\n",
        "training_Oslo_y = training_dataset_Oslo['sqm_net_area']\n",
        "training_Trondheim_x = training_dataset_Trondheim.drop('sqm_net_area', axis = 1)\n",
        "training_Trondheim_y = training_dataset_Trondheim['sqm_net_area']\n",
        "testing_Bergen_x = testing_dataset_Bergen.drop('sqm_net_area', axis = 1)\n",
        "testing_Bergen_y = testing_dataset_Bergen['sqm_net_area']\n",
        "testing_Oslo_x = testing_dataset_Oslo.drop('sqm_net_area', axis = 1)\n",
        "testing_Oslo_y = testing_dataset_Oslo['sqm_net_area']\n",
        "testing_Trondheim_x = testing_dataset_Trondheim.drop('sqm_net_area', axis = 1)\n",
        "testing_Trondheim_y = testing_dataset_Trondheim['sqm_net_area']"
      ],
      "execution_count": null,
      "outputs": []
    },
    {
      "cell_type": "code",
      "metadata": {
        "id": "fml2uRM2l1Gu"
      },
      "source": [
        "# training Bergen AI with standard linear regression\n",
        "linreg_model_Bergen = LinearRegression().fit(training_Bergen_x, training_Bergen_y)"
      ],
      "execution_count": 220,
      "outputs": []
    },
    {
      "cell_type": "code",
      "metadata": {
        "id": "AuwcISssmAJb"
      },
      "source": [
        "# training Oslo AI with standard linear regression\n",
        "linreg_model_Oslo = LinearRegression().fit(training_Oslo_x, training_Oslo_y)"
      ],
      "execution_count": 221,
      "outputs": []
    },
    {
      "cell_type": "code",
      "metadata": {
        "id": "LKwjpf3dmA3t"
      },
      "source": [
        "# training Trondheim AI with standard linear regression\n",
        "linreg_model_Trondheim = LinearRegression().fit(training_Trondheim_x, training_Trondheim_y)"
      ],
      "execution_count": 222,
      "outputs": []
    },
    {
      "cell_type": "code",
      "metadata": {
        "colab": {
          "base_uri": "https://localhost:8080/"
        },
        "id": "9OQ8h-9RmUsr",
        "outputId": "bddc317f-94f9-4562-88b6-1420031d4108"
      },
      "source": [
        "# testing how the Bergen AI fares\n",
        "linreg_model_Bergen.score(testing_Bergen_x, testing_Bergen_y)"
      ],
      "execution_count": 223,
      "outputs": [
        {
          "output_type": "execute_result",
          "data": {
            "text/plain": [
              "0.8773977429290315"
            ]
          },
          "metadata": {},
          "execution_count": 223
        }
      ]
    },
    {
      "cell_type": "code",
      "metadata": {
        "colab": {
          "base_uri": "https://localhost:8080/"
        },
        "id": "-W4WEorXmY6-",
        "outputId": "b4701b3d-aa25-427e-9411-fe77153e9607"
      },
      "source": [
        "# testing how the Oslo AI fares\n",
        "linreg_model_Oslo.score(testing_Oslo_x, testing_Oslo_y)"
      ],
      "execution_count": 224,
      "outputs": [
        {
          "output_type": "execute_result",
          "data": {
            "text/plain": [
              "0.8655889938505136"
            ]
          },
          "metadata": {},
          "execution_count": 224
        }
      ]
    },
    {
      "cell_type": "code",
      "metadata": {
        "colab": {
          "base_uri": "https://localhost:8080/"
        },
        "id": "DAAKEdTzmZcQ",
        "outputId": "41d2a1af-60f9-4aee-ea0b-429071be1b07"
      },
      "source": [
        "# testing how the Trondheim AI fares\n",
        "linreg_model_Trondheim.score(testing_Trondheim_x, testing_Trondheim_y)"
      ],
      "execution_count": 225,
      "outputs": [
        {
          "output_type": "execute_result",
          "data": {
            "text/plain": [
              "0.9304917082883629"
            ]
          },
          "metadata": {},
          "execution_count": 225
        }
      ]
    },
    {
      "cell_type": "code",
      "metadata": {
        "colab": {
          "base_uri": "https://localhost:8080/"
        },
        "id": "IP14pR7mnQt2",
        "outputId": "296e3de0-a2a1-4e36-cdeb-4627eda9d8bb"
      },
      "source": [
        "# training the Bergen AI with quadratic features to better fit the dataset\n",
        "degree = 2\n",
        "polyreg_model_Bergen = make_pipeline(PolynomialFeatures(degree), LinearRegression())\n",
        "polyreg_model_Bergen.fit(training_Bergen_x, training_Bergen_y)"
      ],
      "execution_count": 251,
      "outputs": [
        {
          "output_type": "execute_result",
          "data": {
            "text/plain": [
              "Pipeline(memory=None,\n",
              "         steps=[('polynomialfeatures',\n",
              "                 PolynomialFeatures(degree=2, include_bias=True,\n",
              "                                    interaction_only=False, order='C')),\n",
              "                ('linearregression',\n",
              "                 LinearRegression(copy_X=True, fit_intercept=True, n_jobs=None,\n",
              "                                  normalize=False))],\n",
              "         verbose=False)"
            ]
          },
          "metadata": {},
          "execution_count": 251
        }
      ]
    },
    {
      "cell_type": "code",
      "metadata": {
        "colab": {
          "base_uri": "https://localhost:8080/"
        },
        "id": "l9gO8kpGnb2s",
        "outputId": "e1cc533f-cf53-4e0e-d69d-2f4e3560af31"
      },
      "source": [
        "# training the Oslo AI with quadratic features to better fit the dataset\n",
        "degree = 2\n",
        "polyreg_model_Oslo = make_pipeline(PolynomialFeatures(degree), LinearRegression())\n",
        "polyreg_model_Oslo.fit(training_Oslo_x, training_Oslo_y)"
      ],
      "execution_count": 252,
      "outputs": [
        {
          "output_type": "execute_result",
          "data": {
            "text/plain": [
              "Pipeline(memory=None,\n",
              "         steps=[('polynomialfeatures',\n",
              "                 PolynomialFeatures(degree=2, include_bias=True,\n",
              "                                    interaction_only=False, order='C')),\n",
              "                ('linearregression',\n",
              "                 LinearRegression(copy_X=True, fit_intercept=True, n_jobs=None,\n",
              "                                  normalize=False))],\n",
              "         verbose=False)"
            ]
          },
          "metadata": {},
          "execution_count": 252
        }
      ]
    },
    {
      "cell_type": "code",
      "metadata": {
        "colab": {
          "base_uri": "https://localhost:8080/"
        },
        "id": "_5aqct3Sncl7",
        "outputId": "99470fd7-c8df-4e76-8e4b-ab57636390ec"
      },
      "source": [
        "# training the Trondheim AI with quadratic features to better fit the dataset\n",
        "degree = 2\n",
        "polyreg_model_Trondheim = make_pipeline(PolynomialFeatures(degree), LinearRegression())\n",
        "polyreg_model_Trondheim.fit(training_Trondheim_x, training_Trondheim_y)"
      ],
      "execution_count": 253,
      "outputs": [
        {
          "output_type": "execute_result",
          "data": {
            "text/plain": [
              "Pipeline(memory=None,\n",
              "         steps=[('polynomialfeatures',\n",
              "                 PolynomialFeatures(degree=2, include_bias=True,\n",
              "                                    interaction_only=False, order='C')),\n",
              "                ('linearregression',\n",
              "                 LinearRegression(copy_X=True, fit_intercept=True, n_jobs=None,\n",
              "                                  normalize=False))],\n",
              "         verbose=False)"
            ]
          },
          "metadata": {},
          "execution_count": 253
        }
      ]
    },
    {
      "cell_type": "code",
      "metadata": {
        "colab": {
          "base_uri": "https://localhost:8080/"
        },
        "id": "LpbxspWcnz6k",
        "outputId": "ff6ac713-c41e-4c47-d2a2-755657d5bf62"
      },
      "source": [
        "# testing how the Bergen AI fares\n",
        "polyreg_model_Bergen.score(testing_Bergen_x, testing_Bergen_y)"
      ],
      "execution_count": 254,
      "outputs": [
        {
          "output_type": "execute_result",
          "data": {
            "text/plain": [
              "0.8750561613870698"
            ]
          },
          "metadata": {},
          "execution_count": 254
        }
      ]
    },
    {
      "cell_type": "code",
      "metadata": {
        "colab": {
          "base_uri": "https://localhost:8080/"
        },
        "id": "mfy1m8pan_pp",
        "outputId": "e2d62da0-1868-4967-f690-747186b7de59"
      },
      "source": [
        "# testing how the Oslo AI fares\n",
        "polyreg_model_Oslo.score(testing_Oslo_x, testing_Oslo_y)"
      ],
      "execution_count": 255,
      "outputs": [
        {
          "output_type": "execute_result",
          "data": {
            "text/plain": [
              "0.8408714603215849"
            ]
          },
          "metadata": {},
          "execution_count": 255
        }
      ]
    },
    {
      "cell_type": "code",
      "metadata": {
        "colab": {
          "base_uri": "https://localhost:8080/"
        },
        "id": "kSqo_NO4oAOH",
        "outputId": "9a5e19c1-784a-487c-93e4-94562d8e1ebf"
      },
      "source": [
        "# testing how the Trondheim AI fares\n",
        "polyreg_model_Trondheim.score(testing_Trondheim_x, testing_Trondheim_y)"
      ],
      "execution_count": 256,
      "outputs": [
        {
          "output_type": "execute_result",
          "data": {
            "text/plain": [
              "0.9249811585221666"
            ]
          },
          "metadata": {},
          "execution_count": 256
        }
      ]
    },
    {
      "cell_type": "code",
      "metadata": {
        "id": "Na4-Hh07ovUv"
      },
      "source": [
        "# grouping the Dataframe based on location and industry, and placing them in different dataframes\n",
        "grouped = new_dataset_Bergen.groupby(new_dataset_Bergen.industry_numeric)\n",
        "new_dataset_BF = grouped.get_group(0)\n",
        "new_dataset_BT = grouped.get_group(1)"
      ],
      "execution_count": null,
      "outputs": []
    },
    {
      "cell_type": "code",
      "metadata": {
        "id": "CKVR04cuvvmP"
      },
      "source": [
        "# grouping the Dataframe based on location and industry, and placing them in different dataframes\n",
        "grouped = new_dataset_Oslo.groupby(new_dataset_Oslo.industry_numeric)\n",
        "new_dataset_OF = grouped.get_group(0)\n",
        "new_dataset_OT = grouped.get_group(1)"
      ],
      "execution_count": 258,
      "outputs": []
    },
    {
      "cell_type": "code",
      "metadata": {
        "id": "Xd73RQ_bwDdw"
      },
      "source": [
        "# grouping the Dataframe based on location and industry, and placing them in different dataframes\n",
        "grouped = new_dataset_Trondheim.groupby(new_dataset_Trondheim.industry_numeric)\n",
        "new_dataset_TF = grouped.get_group(0)\n",
        "new_dataset_TT = grouped.get_group(1)"
      ],
      "execution_count": 259,
      "outputs": []
    },
    {
      "cell_type": "code",
      "metadata": {
        "id": "CkSAUY5PwJpt"
      },
      "source": [
        "# splits dataset into training and test set\n",
        "training_dataset_BF, testing_dataset_BF = train_test_split(new_dataset_BF, test_size = 0.2, shuffle = True)\n",
        "training_dataset_BT, testing_dataset_BT = train_test_split(new_dataset_BT, test_size = 0.2, shuffle = True)\n",
        "training_dataset_OF, testing_dataset_OF = train_test_split(new_dataset_OF, test_size = 0.2, shuffle = True)\n",
        "training_dataset_OT, testing_dataset_OT = train_test_split(new_dataset_OT, test_size = 0.2, shuffle = True)\n",
        "training_dataset_TF, testing_dataset_TF = train_test_split(new_dataset_TF, test_size = 0.2, shuffle = True)\n",
        "training_dataset_TT, testing_dataset_TT = train_test_split(new_dataset_TT, test_size = 0.2, shuffle = True)"
      ],
      "execution_count": 260,
      "outputs": []
    },
    {
      "cell_type": "code",
      "metadata": {
        "id": "d8KN9OtRxNbn"
      },
      "source": [
        "# removes the label from all Dataframes, both training and testing sets\n",
        "training_BF_x = training_dataset_BF.drop('sqm_net_area', axis = 1)\n",
        "training_BF_y = training_dataset_BF['sqm_net_area']\n",
        "training_BT_x = training_dataset_BT.drop('sqm_net_area', axis = 1)\n",
        "training_BT_y = training_dataset_BT['sqm_net_area']\n",
        "training_OF_x = training_dataset_OF.drop('sqm_net_area', axis = 1)\n",
        "training_OF_y = training_dataset_OF['sqm_net_area']\n",
        "training_OT_x = training_dataset_OT.drop('sqm_net_area', axis = 1)\n",
        "training_OT_y = training_dataset_OT['sqm_net_area']\n",
        "training_TF_x = training_dataset_TF.drop('sqm_net_area', axis = 1)\n",
        "training_TF_y = training_dataset_TF['sqm_net_area']\n",
        "training_TT_x = training_dataset_TT.drop('sqm_net_area', axis = 1)\n",
        "training_TT_y = training_dataset_TT['sqm_net_area']\n",
        "testing_BF_x = testing_dataset_BF.drop('sqm_net_area', axis = 1)\n",
        "testing_BF_y = testing_dataset_BF['sqm_net_area']\n",
        "testing_BT_x = testing_dataset_BT.drop('sqm_net_area', axis = 1)\n",
        "testing_BT_y = testing_dataset_BT['sqm_net_area']\n",
        "testing_OF_x = testing_dataset_OF.drop('sqm_net_area', axis = 1)\n",
        "testing_OF_y = testing_dataset_OF['sqm_net_area']\n",
        "testing_OT_x = testing_dataset_OT.drop('sqm_net_area', axis = 1)\n",
        "testing_OT_y = testing_dataset_OT['sqm_net_area']\n",
        "testing_TF_x = testing_dataset_TF.drop('sqm_net_area', axis = 1)\n",
        "testing_TF_y = testing_dataset_TF['sqm_net_area']\n",
        "testing_TT_x = testing_dataset_TT.drop('sqm_net_area', axis = 1)\n",
        "testing_TT_y = testing_dataset_TT['sqm_net_area']"
      ],
      "execution_count": null,
      "outputs": []
    },
    {
      "cell_type": "code",
      "metadata": {
        "id": "uwPH8-moylko"
      },
      "source": [
        "# training BF AI with standard linear regression\n",
        "linreg_model_BF = LinearRegression().fit(training_BF_x, training_BF_y)"
      ],
      "execution_count": 262,
      "outputs": []
    },
    {
      "cell_type": "code",
      "metadata": {
        "id": "h1AxpBY6zcCI"
      },
      "source": [
        "# training BT AI with standard linear regression\n",
        "linreg_model_BT = LinearRegression().fit(training_BT_x, training_BT_y)"
      ],
      "execution_count": 263,
      "outputs": []
    },
    {
      "cell_type": "code",
      "metadata": {
        "id": "wi1CQVZ8zgIL"
      },
      "source": [
        "# training OF AI with standard linear regression\n",
        "linreg_model_OF = LinearRegression().fit(training_OF_x, training_OF_y)"
      ],
      "execution_count": 264,
      "outputs": []
    },
    {
      "cell_type": "code",
      "metadata": {
        "id": "gZQBzMOGzj8L"
      },
      "source": [
        "# training OT AI with standard linear regression\n",
        "linreg_model_OT = LinearRegression().fit(training_OT_x, training_OT_y)"
      ],
      "execution_count": 265,
      "outputs": []
    },
    {
      "cell_type": "code",
      "metadata": {
        "id": "YJKdUyKAzop1"
      },
      "source": [
        "# training TF AI with standard linear regression\n",
        "linreg_model_TF = LinearRegression().fit(training_TF_x, training_TF_y)"
      ],
      "execution_count": 266,
      "outputs": []
    },
    {
      "cell_type": "code",
      "metadata": {
        "id": "ylAeJvnLzsHg"
      },
      "source": [
        "# training TT AI with standard linear regression\n",
        "linreg_model_TT = LinearRegression().fit(training_TT_x, training_TT_y)"
      ],
      "execution_count": 267,
      "outputs": []
    },
    {
      "cell_type": "code",
      "metadata": {
        "colab": {
          "base_uri": "https://localhost:8080/"
        },
        "id": "rc7TWbqazvSV",
        "outputId": "8e24a18d-f6db-4cdb-a45d-0f0a4b3b70c1"
      },
      "source": [
        "# testing how the BF AI fares\n",
        "linreg_model_BF.score(testing_BF_x, testing_BF_y)"
      ],
      "execution_count": 268,
      "outputs": [
        {
          "output_type": "execute_result",
          "data": {
            "text/plain": [
              "0.8791848473722972"
            ]
          },
          "metadata": {},
          "execution_count": 268
        }
      ]
    },
    {
      "cell_type": "code",
      "metadata": {
        "colab": {
          "base_uri": "https://localhost:8080/"
        },
        "id": "w3ygi-ldz_HC",
        "outputId": "eb374d10-ed71-4bf3-c258-bd409bd73792"
      },
      "source": [
        "# testing how the BT AI fares\n",
        "linreg_model_BT.score(testing_BT_x, testing_BT_y)"
      ],
      "execution_count": 269,
      "outputs": [
        {
          "output_type": "execute_result",
          "data": {
            "text/plain": [
              "0.8742517569838256"
            ]
          },
          "metadata": {},
          "execution_count": 269
        }
      ]
    },
    {
      "cell_type": "code",
      "metadata": {
        "colab": {
          "base_uri": "https://localhost:8080/"
        },
        "id": "mywdvt9c0CjZ",
        "outputId": "167731ae-cd62-4082-e346-a9ecd5d86572"
      },
      "source": [
        "# testing how the OF AI fares\n",
        "linreg_model_OF.score(testing_OF_x, testing_OF_y)"
      ],
      "execution_count": 270,
      "outputs": [
        {
          "output_type": "execute_result",
          "data": {
            "text/plain": [
              "0.5982030666072609"
            ]
          },
          "metadata": {},
          "execution_count": 270
        }
      ]
    },
    {
      "cell_type": "code",
      "metadata": {
        "colab": {
          "base_uri": "https://localhost:8080/"
        },
        "id": "XgO8VUHN0GXk",
        "outputId": "a419fe1b-5d1d-44cf-cbfc-b679e4c466f8"
      },
      "source": [
        "# testing how the OT AI fares\n",
        "linreg_model_OT.score(testing_OT_x, testing_OT_y)"
      ],
      "execution_count": 271,
      "outputs": [
        {
          "output_type": "execute_result",
          "data": {
            "text/plain": [
              "0.7947018008078449"
            ]
          },
          "metadata": {},
          "execution_count": 271
        }
      ]
    },
    {
      "cell_type": "code",
      "metadata": {
        "colab": {
          "base_uri": "https://localhost:8080/"
        },
        "id": "mhbSPMwu0jLE",
        "outputId": "7f19ac3a-192a-4e64-e970-9ec713c12aed"
      },
      "source": [
        "# testing how the TF AI fares\n",
        "linreg_model_TF.score(testing_TF_x, testing_TF_y)"
      ],
      "execution_count": 272,
      "outputs": [
        {
          "output_type": "execute_result",
          "data": {
            "text/plain": [
              "0.9287932593094069"
            ]
          },
          "metadata": {},
          "execution_count": 272
        }
      ]
    },
    {
      "cell_type": "code",
      "metadata": {
        "colab": {
          "base_uri": "https://localhost:8080/"
        },
        "id": "QyctsMZa0nBX",
        "outputId": "9db69dd5-e05b-46e7-91cc-4e481e7c917d"
      },
      "source": [
        "# testing how the TT AI fares\n",
        "linreg_model_TT.score(testing_TT_x, testing_TT_y)"
      ],
      "execution_count": 273,
      "outputs": [
        {
          "output_type": "execute_result",
          "data": {
            "text/plain": [
              "0.9290873356201691"
            ]
          },
          "metadata": {},
          "execution_count": 273
        }
      ]
    },
    {
      "cell_type": "code",
      "metadata": {
        "colab": {
          "base_uri": "https://localhost:8080/"
        },
        "id": "iN8OnCye1IgN",
        "outputId": "fd828690-93a1-41cc-b461-4f76259e0ab9"
      },
      "source": [
        "# training the BF AI with quadratic features to better fit the dataset\n",
        "degree = 2\n",
        "polyreg_model_BF = make_pipeline(PolynomialFeatures(degree), LinearRegression())\n",
        "polyreg_model_BF.fit(training_BF_x, training_BF_y)"
      ],
      "execution_count": 283,
      "outputs": [
        {
          "output_type": "execute_result",
          "data": {
            "text/plain": [
              "Pipeline(memory=None,\n",
              "         steps=[('polynomialfeatures',\n",
              "                 PolynomialFeatures(degree=2, include_bias=True,\n",
              "                                    interaction_only=False, order='C')),\n",
              "                ('linearregression',\n",
              "                 LinearRegression(copy_X=True, fit_intercept=True, n_jobs=None,\n",
              "                                  normalize=False))],\n",
              "         verbose=False)"
            ]
          },
          "metadata": {},
          "execution_count": 283
        }
      ]
    },
    {
      "cell_type": "code",
      "metadata": {
        "colab": {
          "base_uri": "https://localhost:8080/"
        },
        "id": "jsbBVVSI1tGv",
        "outputId": "09dfeb0f-e6cf-4067-9938-b889953ea706"
      },
      "source": [
        "# training the BT AI with quadratic features to better fit the dataset\n",
        "degree = 2\n",
        "polyreg_model_BT = make_pipeline(PolynomialFeatures(degree), LinearRegression())\n",
        "polyreg_model_BT.fit(training_BT_x, training_BT_y)"
      ],
      "execution_count": 289,
      "outputs": [
        {
          "output_type": "execute_result",
          "data": {
            "text/plain": [
              "Pipeline(memory=None,\n",
              "         steps=[('polynomialfeatures',\n",
              "                 PolynomialFeatures(degree=2, include_bias=True,\n",
              "                                    interaction_only=False, order='C')),\n",
              "                ('linearregression',\n",
              "                 LinearRegression(copy_X=True, fit_intercept=True, n_jobs=None,\n",
              "                                  normalize=False))],\n",
              "         verbose=False)"
            ]
          },
          "metadata": {},
          "execution_count": 289
        }
      ]
    },
    {
      "cell_type": "code",
      "metadata": {
        "colab": {
          "base_uri": "https://localhost:8080/"
        },
        "id": "dLXVwG8V1xzo",
        "outputId": "fa19c736-0477-4264-dc4e-2174e88dfc17"
      },
      "source": [
        "# training the OF AI with quadratic features to better fit the dataset\n",
        "degree = 2\n",
        "polyreg_model_OF = make_pipeline(PolynomialFeatures(degree), LinearRegression())\n",
        "polyreg_model_OF.fit(training_OF_x, training_OF_y)"
      ],
      "execution_count": 296,
      "outputs": [
        {
          "output_type": "execute_result",
          "data": {
            "text/plain": [
              "Pipeline(memory=None,\n",
              "         steps=[('polynomialfeatures',\n",
              "                 PolynomialFeatures(degree=2, include_bias=True,\n",
              "                                    interaction_only=False, order='C')),\n",
              "                ('linearregression',\n",
              "                 LinearRegression(copy_X=True, fit_intercept=True, n_jobs=None,\n",
              "                                  normalize=False))],\n",
              "         verbose=False)"
            ]
          },
          "metadata": {},
          "execution_count": 296
        }
      ]
    },
    {
      "cell_type": "code",
      "metadata": {
        "colab": {
          "base_uri": "https://localhost:8080/"
        },
        "id": "LKj4ZMS_12x2",
        "outputId": "ae27bf9f-6c42-47b6-855d-d11e36ee072e"
      },
      "source": [
        "# training the OT AI with quadratic features to better fit the dataset\n",
        "degree = 2\n",
        "polyreg_model_OT = make_pipeline(PolynomialFeatures(degree), LinearRegression())\n",
        "polyreg_model_OT.fit(training_OT_x, training_OT_y)"
      ],
      "execution_count": 301,
      "outputs": [
        {
          "output_type": "execute_result",
          "data": {
            "text/plain": [
              "Pipeline(memory=None,\n",
              "         steps=[('polynomialfeatures',\n",
              "                 PolynomialFeatures(degree=2, include_bias=True,\n",
              "                                    interaction_only=False, order='C')),\n",
              "                ('linearregression',\n",
              "                 LinearRegression(copy_X=True, fit_intercept=True, n_jobs=None,\n",
              "                                  normalize=False))],\n",
              "         verbose=False)"
            ]
          },
          "metadata": {},
          "execution_count": 301
        }
      ]
    },
    {
      "cell_type": "code",
      "metadata": {
        "colab": {
          "base_uri": "https://localhost:8080/"
        },
        "id": "MHwLoVr317vM",
        "outputId": "b6dc6502-84d8-41f9-f33a-c0f046f01ba6"
      },
      "source": [
        "# training the TF AI with quadratic features to better fit the dataset\n",
        "degree = 2\n",
        "polyreg_model_TF = make_pipeline(PolynomialFeatures(degree), LinearRegression())\n",
        "polyreg_model_TF.fit(training_TF_x, training_TF_y)"
      ],
      "execution_count": 306,
      "outputs": [
        {
          "output_type": "execute_result",
          "data": {
            "text/plain": [
              "Pipeline(memory=None,\n",
              "         steps=[('polynomialfeatures',\n",
              "                 PolynomialFeatures(degree=2, include_bias=True,\n",
              "                                    interaction_only=False, order='C')),\n",
              "                ('linearregression',\n",
              "                 LinearRegression(copy_X=True, fit_intercept=True, n_jobs=None,\n",
              "                                  normalize=False))],\n",
              "         verbose=False)"
            ]
          },
          "metadata": {},
          "execution_count": 306
        }
      ]
    },
    {
      "cell_type": "code",
      "metadata": {
        "colab": {
          "base_uri": "https://localhost:8080/"
        },
        "id": "AHDd21DN2Ae2",
        "outputId": "907cc2dd-eb04-4051-deb6-824befab090c"
      },
      "source": [
        "# training the TT AI with quadratic features to better fit the dataset\n",
        "degree = 2\n",
        "polyreg_model_TT = make_pipeline(PolynomialFeatures(degree), LinearRegression())\n",
        "polyreg_model_TT.fit(training_TT_x, training_TT_y)"
      ],
      "execution_count": 311,
      "outputs": [
        {
          "output_type": "execute_result",
          "data": {
            "text/plain": [
              "Pipeline(memory=None,\n",
              "         steps=[('polynomialfeatures',\n",
              "                 PolynomialFeatures(degree=2, include_bias=True,\n",
              "                                    interaction_only=False, order='C')),\n",
              "                ('linearregression',\n",
              "                 LinearRegression(copy_X=True, fit_intercept=True, n_jobs=None,\n",
              "                                  normalize=False))],\n",
              "         verbose=False)"
            ]
          },
          "metadata": {},
          "execution_count": 311
        }
      ]
    },
    {
      "cell_type": "code",
      "metadata": {
        "colab": {
          "base_uri": "https://localhost:8080/"
        },
        "id": "1W7_L7Rw2FG4",
        "outputId": "33d8ecff-16ab-4aaf-9209-1cf07ff3c594"
      },
      "source": [
        "# testing how the BF AI fares\n",
        "polyreg_model_BF.score(testing_BF_x, testing_BF_y)"
      ],
      "execution_count": 284,
      "outputs": [
        {
          "output_type": "execute_result",
          "data": {
            "text/plain": [
              "0.7340268636546186"
            ]
          },
          "metadata": {},
          "execution_count": 284
        }
      ]
    },
    {
      "cell_type": "code",
      "metadata": {
        "colab": {
          "base_uri": "https://localhost:8080/"
        },
        "id": "SJx5o1sE2NzW",
        "outputId": "65fd5c41-a07f-4171-c8aa-6529ae2439e2"
      },
      "source": [
        "# testing how the BT AI fares\n",
        "polyreg_model_BT.score(testing_BT_x, testing_BT_y)"
      ],
      "execution_count": 290,
      "outputs": [
        {
          "output_type": "execute_result",
          "data": {
            "text/plain": [
              "0.8848489626581149"
            ]
          },
          "metadata": {},
          "execution_count": 290
        }
      ]
    },
    {
      "cell_type": "code",
      "metadata": {
        "colab": {
          "base_uri": "https://localhost:8080/"
        },
        "id": "u7fRJrRr2cnQ",
        "outputId": "a831a491-628e-435a-f262-b7513a399ffa"
      },
      "source": [
        "# testing how the OF AI fares\n",
        "polyreg_model_OF.score(testing_OF_x, testing_OF_y)"
      ],
      "execution_count": 297,
      "outputs": [
        {
          "output_type": "execute_result",
          "data": {
            "text/plain": [
              "0.12407951248567406"
            ]
          },
          "metadata": {},
          "execution_count": 297
        }
      ]
    },
    {
      "cell_type": "code",
      "metadata": {
        "colab": {
          "base_uri": "https://localhost:8080/"
        },
        "id": "LMsmVM4O2nZY",
        "outputId": "9943f241-11a7-4d4c-98fe-9ef26ef6645f"
      },
      "source": [
        "# testing how the OT AI fares\n",
        "polyreg_model_OT.score(testing_OT_x, testing_OT_y)"
      ],
      "execution_count": 302,
      "outputs": [
        {
          "output_type": "execute_result",
          "data": {
            "text/plain": [
              "0.7667277174046248"
            ]
          },
          "metadata": {},
          "execution_count": 302
        }
      ]
    },
    {
      "cell_type": "code",
      "metadata": {
        "colab": {
          "base_uri": "https://localhost:8080/"
        },
        "id": "4yjdr4lz21t4",
        "outputId": "e50e521f-accb-4a5e-f1a7-057d0248294d"
      },
      "source": [
        "# testing how the TF AI fares\n",
        "polyreg_model_TF.score(testing_TF_x, testing_TF_y)"
      ],
      "execution_count": 307,
      "outputs": [
        {
          "output_type": "execute_result",
          "data": {
            "text/plain": [
              "0.9274991685014286"
            ]
          },
          "metadata": {},
          "execution_count": 307
        }
      ]
    },
    {
      "cell_type": "code",
      "metadata": {
        "colab": {
          "base_uri": "https://localhost:8080/"
        },
        "id": "iIfT2jbt2_Nj",
        "outputId": "e0d3d26d-4c9e-4c03-b9a7-f5cb45d123d7"
      },
      "source": [
        "# testing how the TT AI fares\n",
        "polyreg_model_TT.score(testing_TT_x, testing_TT_y)"
      ],
      "execution_count": 312,
      "outputs": [
        {
          "output_type": "execute_result",
          "data": {
            "text/plain": [
              "0.9275489210656829"
            ]
          },
          "metadata": {},
          "execution_count": 312
        }
      ]
    },
    {
      "cell_type": "code",
      "metadata": {
        "id": "pqsnSbdd3KY0"
      },
      "source": [
        ""
      ],
      "execution_count": null,
      "outputs": []
    }
  ]
}